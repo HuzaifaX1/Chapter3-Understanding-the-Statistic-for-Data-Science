{
 "cells": [
  {
   "cell_type": "code",
   "execution_count": 1,
   "id": "ac9cd482",
   "metadata": {},
   "outputs": [],
   "source": [
    "import pandas as pd"
   ]
  },
  {
   "cell_type": "code",
   "execution_count": 3,
   "id": "0811fc3c",
   "metadata": {},
   "outputs": [],
   "source": [
    "#loading the data \n",
    "data = pd.read_csv(\"Median.csv\")"
   ]
  },
  {
   "cell_type": "code",
   "execution_count": 4,
   "id": "1aebf653",
   "metadata": {},
   "outputs": [
    {
     "data": {
      "text/html": [
       "<div>\n",
       "<style scoped>\n",
       "    .dataframe tbody tr th:only-of-type {\n",
       "        vertical-align: middle;\n",
       "    }\n",
       "\n",
       "    .dataframe tbody tr th {\n",
       "        vertical-align: top;\n",
       "    }\n",
       "\n",
       "    .dataframe thead th {\n",
       "        text-align: right;\n",
       "    }\n",
       "</style>\n",
       "<table border=\"1\" class=\"dataframe\">\n",
       "  <thead>\n",
       "    <tr style=\"text-align: right;\">\n",
       "      <th></th>\n",
       "      <th>Student</th>\n",
       "      <th>Overall Marks</th>\n",
       "      <th>Gender</th>\n",
       "      <th>Subject</th>\n",
       "    </tr>\n",
       "  </thead>\n",
       "  <tbody>\n",
       "    <tr>\n",
       "      <th>0</th>\n",
       "      <td>Anish</td>\n",
       "      <td>9700</td>\n",
       "      <td>Male</td>\n",
       "      <td>English</td>\n",
       "    </tr>\n",
       "    <tr>\n",
       "      <th>1</th>\n",
       "      <td>Rishabh</td>\n",
       "      <td>83</td>\n",
       "      <td>Male</td>\n",
       "      <td>English</td>\n",
       "    </tr>\n",
       "    <tr>\n",
       "      <th>2</th>\n",
       "      <td>Ajay</td>\n",
       "      <td>78</td>\n",
       "      <td>Male</td>\n",
       "      <td>Physics</td>\n",
       "    </tr>\n",
       "    <tr>\n",
       "      <th>3</th>\n",
       "      <td>Abhinav</td>\n",
       "      <td>86</td>\n",
       "      <td>Male</td>\n",
       "      <td>Chemistry</td>\n",
       "    </tr>\n",
       "    <tr>\n",
       "      <th>4</th>\n",
       "      <td>Anurag</td>\n",
       "      <td>91</td>\n",
       "      <td>Male</td>\n",
       "      <td>English</td>\n",
       "    </tr>\n",
       "  </tbody>\n",
       "</table>\n",
       "</div>"
      ],
      "text/plain": [
       "   Student  Overall Marks Gender    Subject\n",
       "0    Anish           9700   Male    English\n",
       "1  Rishabh             83   Male    English\n",
       "2     Ajay             78   Male    Physics\n",
       "3  Abhinav             86   Male  Chemistry\n",
       "4   Anurag             91   Male    English"
      ]
     },
     "execution_count": 4,
     "metadata": {},
     "output_type": "execute_result"
    }
   ],
   "source": [
    "data.head()"
   ]
  },
  {
   "cell_type": "code",
   "execution_count": 6,
   "id": "8a960992",
   "metadata": {},
   "outputs": [
    {
     "name": "stdout",
     "output_type": "stream",
     "text": [
      "77.0\n"
     ]
    }
   ],
   "source": [
    "#Calculate the Median\n",
    "Median_data = data['Overall Marks'].median()\n",
    "\n",
    "print(Median_data)"
   ]
  },
  {
   "cell_type": "code",
   "execution_count": 8,
   "id": "fe8f7916",
   "metadata": {},
   "outputs": [],
   "source": [
    "#Calculate the quantiles. Remember the Quantiles are 1/4th of the Quartiles\n",
    "\n",
    "Q1 = data[\"Overall Marks\"].quantile(0.25)\n",
    "Q2 = data[\"Overall Marks\"].quantile(0.5)\n",
    "Q3 = data[\"Overall Marks\"].quantile(0.75)\n",
    "Q4 = data[\"Overall Marks\"].quantile(1)"
   ]
  },
  {
   "cell_type": "code",
   "execution_count": 10,
   "id": "1722dee2",
   "metadata": {},
   "outputs": [
    {
     "name": "stdout",
     "output_type": "stream",
     "text": [
      "First Quantile 57.25\n",
      "Second Quantile 77.0\n",
      "Third Quantile 87.25\n",
      "Fourth Quantile 9700.0\n"
     ]
    }
   ],
   "source": [
    "print(\"First Quantile\", Q1)\n",
    "print(\"Second Quantile\", Q2)\n",
    "print(\"Third Quantile\", Q3)\n",
    "print(\"Fourth Quantile\", Q4)"
   ]
  },
  {
   "cell_type": "code",
   "execution_count": null,
   "id": "d00e3bcf",
   "metadata": {},
   "outputs": [],
   "source": []
  }
 ],
 "metadata": {
  "kernelspec": {
   "display_name": "Python 3 (ipykernel)",
   "language": "python",
   "name": "python3"
  },
  "language_info": {
   "codemirror_mode": {
    "name": "ipython",
    "version": 3
   },
   "file_extension": ".py",
   "mimetype": "text/x-python",
   "name": "python",
   "nbconvert_exporter": "python",
   "pygments_lexer": "ipython3",
   "version": "3.10.9"
  }
 },
 "nbformat": 4,
 "nbformat_minor": 5
}
